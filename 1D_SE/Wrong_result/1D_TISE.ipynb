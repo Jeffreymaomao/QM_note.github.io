{
 "cells": [
  {
   "cell_type": "markdown",
   "metadata": {},
   "source": [
    "# Time-independent Schrödinger equation in 1D\n",
    "For the time-dependent Schrödinger equation\n",
    "$$\n",
    "i \\hbar \\frac{\\partial}{\\partial t} \\ket{\\psi(t, x)} = \\hat{H} \\ket{\\psi(t, x)}\n",
    "$$\n",
    "can be decomposed by the method of separation of variables when the potential is time-independent $V=V(x)$, that is\n",
    "$$\n",
    "\\hat{H}\\ket{\\psi(x)} = E\\ket{\\psi(x)},\n",
    "$$\n",
    "where the hamiltonian is given by\n",
    "$$\n",
    "\\hat{H} = -\\frac{\\hbar^2}{2 m} \\nabla^2 + V(x).\n",
    "$$"
   ]
  },
  {
   "cell_type": "markdown",
   "metadata": {},
   "source": [
    "## Problem \n",
    "The goal of this project is to solve time-independent Schrödinger equation in 1-dimension called \"Eigen Probelm\", that is\n",
    "$$\n",
    "\\boxed{\\color{blue}\n",
    "-\\frac{\\hbar^2}{2 m}\\frac{d^2}{dx^2}\\ket{\\psi(x)} + V(x)\\ket{\\psi(x)} = E\\ket{\\psi(x)},\n",
    "}\n",
    "$$"
   ]
  },
  {
   "cell_type": "markdown",
   "metadata": {},
   "source": [
    "\n",
    "## Mathematics supplement\n",
    "### Dirac notation\n",
    "In quantum mechanics, bra–ket notation, or Dirac notation, is used ubiquitously to denote quantum states. Here, a bra is in the form $\\ket{\\psi}$ which can be defined as a row vector, and a ket is in the form $\\bra{\\psi}$ which can be defined as a row vector, that is\n",
    "$$\n",
    "\\ket{\\psi} = \n",
    "\\begin{pmatrix}\n",
    "\\psi_{0}\\\\\n",
    "\\psi_{1}\\\\\n",
    "\\vdots\\\\\n",
    "\\psi_{n-1}\\\\\n",
    "\\end{pmatrix}\n",
    "\\quad\\text{and}\\quad\n",
    "\\bra{\\psi} = \\begin{pmatrix}\\psi^*_{0}&\\psi^*_{1}&\\cdots&\\psi^*_{n-1}\\end{pmatrix}.\n",
    "$$\n",
    "Also, they will satisfy $\\ket{\\psi}^\\dagger = \\bra{\\psi}$ and $\\bra{\\psi}^\\dagger = \\ket{\\psi}$."
   ]
  },
  {
   "cell_type": "markdown",
   "metadata": {},
   "source": [
    "### Continuous Position space\n",
    "The operator $\\hat{x} = \\hat{x}^\\dagger$ is a hermitian operator, and the position eigen basis $\\ket{x}$ is defined to be the eigenstate of $\\hat{x}$ with eigenvalue $x$\n",
    "$$\n",
    "\\hat{x}\\ket{x} = x\\ket{x}.\n",
    "$$\n",
    "In continuous space, the eigenvalues $x$ are not discrete, and so we use Dirac $\\delta$-function for normalization \n",
    "$$\n",
    "\\langle {x} | {x'} \\rangle = \\delta(x-x').\n",
    "$$\n",
    "The state $\\ket{x}$ form a complete basis for our space and \n",
    "$$\n",
    "\\int |{x}\\rangle\\langle{x}| dx = \\hat{I}. \n",
    "$$\n",
    "### Discrete Position space\n",
    "In numerical, the position space is said to be \"Discrete\". If we define the step of $x$ to be $\\delta_x$ and the intial position and end position to be $x_0$ and $x_{n-1}$ respectively. Then the position eigen basis $\\ket{x}$ and $\\bra{x}$ is given by\n",
    "$$\n",
    "\\ket{x} = \\begin{pmatrix}\n",
    "x_{0}\\\\\n",
    "x_{1}\\\\\n",
    "\\vdots\\\\\n",
    "x_{n-1}\\\\\n",
    "\\end{pmatrix}\n",
    "\\quad\\text{and}\\quad\n",
    "\\bra{x} = \\begin{pmatrix}x_0 & x_1 & \\cdots & x_{n-1} \\end{pmatrix},\n",
    "$$\n",
    "as shown as figure below\n",
    "\n",
    "<div style=\"text-align:center\"><img src=\"assets/position_space.png\" width=\"780px\"/></div>\n",
    "\n",
    "where $x_{i}-x_{i-1} = \\delta_x$, and $x_i\\in \\mathbb{R}$ for $i=0,\\ldots,n-1$.\n",
    "\n",
    "the eigenvalues $x$ are discrete so we use Kronecker delta function for normalization\n",
    "$$\n",
    "x_ix_j = \\delta_{ij} \\quad\\Rightarrow\\quad \\sum_{i=0}^{n-1}x_ix_j = 1\n",
    "$$\n",
    "In discrete space, the state $\\ket{x}$ can not form a complete basis for all space, but it still can form a complete space which is define by ourself  \n",
    "$$\n",
    "|{x}\\rangle\\langle{x}| =\n",
    "\\begin{pmatrix}\n",
    "x_0x_0 & x_0x_1 & \\cdots & x_0x_{n-1}\\\\\n",
    "x_1x_0 & x_1x_1 & \\cdots & x_1x_{n-1}\\\\\n",
    "\\vdots & \\vdots & \\ddots & \\vdots\\\\\n",
    "x_{n-1}x_0 & x_{n-1}x_1 & \\cdots & x_{n-1} x_{n-1}\n",
    "\\end{pmatrix}\n",
    "=\n",
    "\\begin{pmatrix}\n",
    "1 & 0 & \\cdots & 0\\\\\n",
    "0 & 1 & \\cdots & 0\\\\\n",
    "\\vdots & \\vdots & \\ddots & \\vdots\\\\\n",
    "0 & 0 & \\cdots & 1\n",
    "\\end{pmatrix}\n",
    "= \\hat{I}. \n",
    "$$"
   ]
  },
  {
   "cell_type": "markdown",
   "metadata": {},
   "source": [
    "### Discrete Schrödinger equation\n",
    "Appling the discrete position space to the Schrödinger equation\n",
    "$$\n",
    "-\\frac{\\hbar^2}{2 m}\\frac{d^2}{dx^2}\\ket{\\psi} + V\\ket{\\psi} = E\\ket{\\psi},\n",
    "$$\n",
    "we have \n",
    "\n",
    "\n",
    "\n",
    "\n",
    "\n"
   ]
  },
  {
   "cell_type": "code",
   "execution_count": 1,
   "metadata": {},
   "outputs": [
    {
     "name": "stdout",
     "output_type": "stream",
     "text": [
      "2\n"
     ]
    }
   ],
   "source": [
    "print('2')"
   ]
  },
  {
   "cell_type": "code",
   "execution_count": null,
   "metadata": {},
   "outputs": [],
   "source": []
  }
 ],
 "metadata": {
  "kernelspec": {
   "display_name": "Python 3.11.0 64-bit",
   "language": "python",
   "name": "python3"
  },
  "language_info": {
   "codemirror_mode": {
    "name": "ipython",
    "version": 3
   },
   "file_extension": ".py",
   "mimetype": "text/x-python",
   "name": "python",
   "nbconvert_exporter": "python",
   "pygments_lexer": "ipython3",
   "version": "3.11.0"
  },
  "orig_nbformat": 4,
  "vscode": {
   "interpreter": {
    "hash": "aee8b7b246df8f9039afb4144a1f6fd8d2ca17a180786b69acc140d282b71a49"
   }
  }
 },
 "nbformat": 4,
 "nbformat_minor": 2
}
